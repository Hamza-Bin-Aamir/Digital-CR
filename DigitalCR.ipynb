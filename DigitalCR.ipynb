{
  "cells": [
    {
      "cell_type": "markdown",
      "metadata": {
        "id": "upUsLv-C1aLH"
      },
      "source": [
        "# Digital CR\n",
        "A simple application that sends the current information on classes, exams, quizzes, and assignments to a whatsapp group at a specified time."
      ]
    },
    {
      "cell_type": "markdown",
      "metadata": {
        "id": "bglyk0V-2jxI"
      },
      "source": [
        "## Installing dependencies\n",
        "The only dependency for this script is pywhatkit, which uses your browser to send messages to whatsapp."
      ]
    },
    {
      "cell_type": "code",
      "execution_count": 10,
      "metadata": {
        "colab": {
          "base_uri": "https://localhost:8080/"
        },
        "id": "X3Mhoia51Xxb",
        "outputId": "b909cc7a-054b-444b-e8f7-efe84a36465e"
      },
      "outputs": [
        {
          "name": "stdout",
          "output_type": "stream",
          "text": [
            "Requirement already satisfied: pywhatkit in c:\\users\\hp\\appdata\\local\\programs\\python\\python312\\lib\\site-packages (5.4)Note: you may need to restart the kernel to use updated packages.\n",
            "\n",
            "Requirement already satisfied: Pillow in c:\\users\\hp\\appdata\\local\\programs\\python\\python312\\lib\\site-packages (from pywhatkit) (10.1.0)\n",
            "Requirement already satisfied: pyautogui in c:\\users\\hp\\appdata\\local\\programs\\python\\python312\\lib\\site-packages (from pywhatkit) (0.9.54)\n",
            "Requirement already satisfied: requests in c:\\users\\hp\\appdata\\local\\programs\\python\\python312\\lib\\site-packages (from pywhatkit) (2.28.1)\n",
            "Requirement already satisfied: wikipedia in c:\\users\\hp\\appdata\\local\\programs\\python\\python312\\lib\\site-packages (from pywhatkit) (1.4.0)\n",
            "Requirement already satisfied: Flask in c:\\users\\hp\\appdata\\local\\programs\\python\\python312\\lib\\site-packages (from pywhatkit) (3.0.2)\n",
            "Requirement already satisfied: Werkzeug>=3.0.0 in c:\\users\\hp\\appdata\\local\\programs\\python\\python312\\lib\\site-packages (from Flask->pywhatkit) (3.0.1)\n",
            "Requirement already satisfied: Jinja2>=3.1.2 in c:\\users\\hp\\appdata\\local\\programs\\python\\python312\\lib\\site-packages (from Flask->pywhatkit) (3.1.2)\n",
            "Requirement already satisfied: itsdangerous>=2.1.2 in c:\\users\\hp\\appdata\\local\\programs\\python\\python312\\lib\\site-packages (from Flask->pywhatkit) (2.1.2)\n",
            "Requirement already satisfied: click>=8.1.3 in c:\\users\\hp\\appdata\\local\\programs\\python\\python312\\lib\\site-packages (from Flask->pywhatkit) (8.1.7)\n",
            "Requirement already satisfied: blinker>=1.6.2 in c:\\users\\hp\\appdata\\local\\programs\\python\\python312\\lib\\site-packages (from Flask->pywhatkit) (1.7.0)\n",
            "Requirement already satisfied: pymsgbox in c:\\users\\hp\\appdata\\local\\programs\\python\\python312\\lib\\site-packages (from pyautogui->pywhatkit) (1.0.9)\n",
            "Requirement already satisfied: pytweening>=1.0.4 in c:\\users\\hp\\appdata\\local\\programs\\python\\python312\\lib\\site-packages (from pyautogui->pywhatkit) (1.2.0)\n",
            "Requirement already satisfied: pyscreeze>=0.1.21 in c:\\users\\hp\\appdata\\local\\programs\\python\\python312\\lib\\site-packages (from pyautogui->pywhatkit) (0.1.30)\n",
            "Requirement already satisfied: pygetwindow>=0.0.5 in c:\\users\\hp\\appdata\\local\\programs\\python\\python312\\lib\\site-packages (from pyautogui->pywhatkit) (0.0.9)\n",
            "Requirement already satisfied: mouseinfo in c:\\users\\hp\\appdata\\local\\programs\\python\\python312\\lib\\site-packages (from pyautogui->pywhatkit) (0.1.3)\n",
            "Requirement already satisfied: charset-normalizer<3,>=2 in c:\\users\\hp\\appdata\\local\\programs\\python\\python312\\lib\\site-packages (from requests->pywhatkit) (2.1.1)\n",
            "Requirement already satisfied: idna<4,>=2.5 in c:\\users\\hp\\appdata\\local\\programs\\python\\python312\\lib\\site-packages (from requests->pywhatkit) (3.4)\n",
            "Requirement already satisfied: urllib3<1.27,>=1.21.1 in c:\\users\\hp\\appdata\\local\\programs\\python\\python312\\lib\\site-packages (from requests->pywhatkit) (1.26.13)\n",
            "Requirement already satisfied: certifi>=2017.4.17 in c:\\users\\hp\\appdata\\local\\programs\\python\\python312\\lib\\site-packages (from requests->pywhatkit) (2022.12.7)\n",
            "Requirement already satisfied: beautifulsoup4 in c:\\users\\hp\\appdata\\local\\programs\\python\\python312\\lib\\site-packages (from wikipedia->pywhatkit) (4.12.3)\n",
            "Requirement already satisfied: colorama in c:\\users\\hp\\appdata\\roaming\\python\\python312\\site-packages (from click>=8.1.3->Flask->pywhatkit) (0.4.6)\n",
            "Requirement already satisfied: MarkupSafe>=2.0 in c:\\users\\hp\\appdata\\local\\programs\\python\\python312\\lib\\site-packages (from Jinja2>=3.1.2->Flask->pywhatkit) (2.1.3)\n",
            "Requirement already satisfied: pyrect in c:\\users\\hp\\appdata\\local\\programs\\python\\python312\\lib\\site-packages (from pygetwindow>=0.0.5->pyautogui->pywhatkit) (0.2.0)\n",
            "Requirement already satisfied: soupsieve>1.2 in c:\\users\\hp\\appdata\\local\\programs\\python\\python312\\lib\\site-packages (from beautifulsoup4->wikipedia->pywhatkit) (2.5)\n",
            "Requirement already satisfied: pyperclip in c:\\users\\hp\\appdata\\local\\programs\\python\\python312\\lib\\site-packages (from mouseinfo->pyautogui->pywhatkit) (1.8.2)\n"
          ]
        }
      ],
      "source": [
        "# install dependencies\n",
        "%pip install pywhatkit"
      ]
    },
    {
      "cell_type": "code",
      "execution_count": 11,
      "metadata": {
        "colab": {
          "base_uri": "https://localhost:8080/",
          "height": 304
        },
        "id": "5IPUJ10j6AW9",
        "outputId": "786ff397-f23a-4fb6-ae5d-b3007959bcf1"
      },
      "outputs": [],
      "source": [
        "# import dependencies\n",
        "# import dependencies\n",
        "import os # modify environment variables\n",
        "os.environ['DISPLAY'] = ':0' # this is needed for pyautogui, which is used by pywhatkit\n",
        "import pywhatkit # need this to send whatsapp messages \n",
        "import configparser # easily read config files\n",
        "import re # regular expressions, a great way to interpret strings (once you understand them lol)"
      ]
    },
    {
      "cell_type": "markdown",
      "metadata": {
        "id": "lk6I1q9G3ZpB"
      },
      "source": [
        "## Configuring the app\n",
        "This part of the code handles loading the config files and config data for the app to use later"
      ]
    },
    {
      "cell_type": "code",
      "execution_count": 12,
      "metadata": {},
      "outputs": [],
      "source": [
        "# Config data (editable)\n",
        "DEBUG = True # get debug outputs\n",
        "CONFIG_FILE_LOCATION = 'Digital-CR-Config.ini' # relative path to file\n",
        "\n",
        "# Config data (DO NOT MODIFY)\n",
        "# We will check if there are even exams, quizzes, assignments or lectures due\n",
        "NO_EXAM = False; NO_QUIZ = False; NO_ASSIGNMENT = False; NO_LECTURE = False; NO_ANNOUNCEMENT = False\n",
        "# Store values from config file\n",
        "Mode = \"\"; Announcement = \"\";   Announcement_Priority = \"\"; Current_Date = \"\"; Current_Day = \"\"; LookupVenue = \"\" \n",
        "Target = \"\"; QuizLink = \"\"; AssignmentLink = \"\"; ResourcesLink = \"\"\n",
        "Lecture_Text = \"\"\n",
        "Assignment_CurrentText=\"\";      Assignment_DateText=\"\"; Assignment_DayText=\"\";  Assignment_TimeText = \"\";   Assignment_VenueText = \"\"\n",
        "Quiz_CurrentText=\"\";            Quiz_DateText=\"\";       Quiz_DayText=\"\";        Quiz_TimeText = \"\";         Quiz_VenueText = \"\"\n",
        "Exam_CurrentText=\"\";            Exam_DateText=\"\";       Exam_DayText=\"\";        Exam_TimeText = \"\";         Exam_VenueText = \"\";        Exam_Type = \"\"\n",
        "CompleteSchedule = []\n"
      ]
    },
    {
      "cell_type": "markdown",
      "metadata": {},
      "source": [
        "Now we write some helper functions to perform commonly used tasks"
      ]
    },
    {
      "cell_type": "code",
      "execution_count": 13,
      "metadata": {},
      "outputs": [],
      "source": [
        "# Helper functions\n",
        "def yesno(IN:str):\n",
        "    return str(IN)[0] == 'y'\n",
        "def debug(IN):\n",
        "    if(DEBUG):\n",
        "        print(IN)\n",
        "def TextBeforeChar(IN:str, QUERY:chr):\n",
        "    index = IN.find(QUERY)\n",
        "    if index != -1:\n",
        "        return IN[:index]\n",
        "    else:\n",
        "        return IN"
      ]
    },
    {
      "cell_type": "markdown",
      "metadata": {},
      "source": [
        "## Reading the config file\n",
        "\n",
        "We read the config file and throw an error if any of the keys dont exist"
      ]
    },
    {
      "cell_type": "code",
      "execution_count": 14,
      "metadata": {},
      "outputs": [
        {
          "name": "stdout",
          "output_type": "stream",
          "text": [
            "-------- READING DEBUG FILE --------\n",
            "NO OVERRIDES ACTIVE\n",
            "LOADING GENERAL CONFIG\n",
            "LOADING LECTURE CONFIG\n",
            "LOADING ASSIGNMENT CONFIG\n",
            "LOADING QUIZ CONFIG\n",
            "LOADING EXAM CONFIG\n"
          ]
        }
      ],
      "source": [
        "# Config file\n",
        "cp = configparser.ConfigParser() \n",
        "cp.read(CONFIG_FILE_LOCATION) # read the config file from the specified location\n",
        "try:\n",
        "    debug(\"-------- READING DEBUG FILE --------\")\n",
        "    # Check if there are any overrides\n",
        "    if(cp['GENERAL']['override'] == 'Input'):\n",
        "        DO_NOT_SEND = yesno(input(\"Would you like to send output to console (yes) or whatsapp (no)? (y/n): \"))\n",
        "        DEBUG       = yesno(input(\"Would you like to see the debug outputs? (y/n): \"))\n",
        "    else:\n",
        "        debug(\"NO OVERRIDES ACTIVE\")\n",
        "\n",
        "    # Read general config data\n",
        "    debug(\"LOADING GENERAL CONFIG\")\n",
        "    Mode                    = cp[\"GENERAL\"][\"mode\"]\n",
        "    Announcement            = cp[\"GENERAL\"][\"announcement\"]\n",
        "    Announcement_Priority   = cp[\"GENERAL\"][\"priority\"]\n",
        "    Current_Date            = cp[\"GENERAL\"][\"date\"]\n",
        "    Current_Day             = cp[\"GENERAL\"][\"day\"]\n",
        "    LookupVenue             = cp[\"GENERAL\"][\"lookupvenue\"]\n",
        "    Target                  = cp[\"GENERAL\"][\"target\"]\n",
        "    ResourcesLink           = cp[\"GENERAL\"][\"resourceslink\"]\n",
        "    AssignmentLink          = cp[\"GENERAL\"][\"assignmentlink\"]\n",
        "    QuizLink                = cp[\"GENERAL\"][\"quizlink\"]\n",
        "\n",
        "    # Read lecture data\n",
        "    debug(\"LOADING LECTURE CONFIG\")\n",
        "    Lecture_Text            = cp[\"Lecture\"][Current_Day] # Extract timetable for THAT specific day ONLY\n",
        "\n",
        "    # Read assignment data\n",
        "    debug(\"LOADING ASSIGNMENT CONFIG\")\n",
        "    Assignment_CurrentText  = cp[\"Assignment\"][\"current\"]\n",
        "    Assignment_DateText     = cp[\"Assignment\"][\"date\"]\n",
        "    Assignment_DayText      = cp[\"Assignment\"][\"day\"]\n",
        "    Assignment_TimeText     = cp[\"Assignment\"][\"time\"]\n",
        "    Assignment_VenueText    = cp[\"Assignment\"][\"venue\"]\n",
        "\n",
        "    # Read quiz data\n",
        "    debug(\"LOADING QUIZ CONFIG\")\n",
        "    Quiz_CurrentText        = cp[\"Quiz\"][\"current\"]\n",
        "    Quiz_DateText           = cp[\"Quiz\"][\"date\"]\n",
        "    Quiz_DayText            = cp[\"Quiz\"][\"day\"]\n",
        "    Quiz_TimeText           = cp[\"Quiz\"][\"time\"]\n",
        "    Quiz_VenueText          = cp[\"Quiz\"][\"venue\"]\n",
        "\n",
        "    # Read Exam data\n",
        "    debug(\"LOADING EXAM CONFIG\")\n",
        "    Exam_CurrentText        = cp[\"Exam\"][\"current\"]\n",
        "    Exam_DateText           = cp[\"Exam\"][\"date\"]\n",
        "    Exam_DayText            = cp[\"Exam\"][\"day\"]\n",
        "    Exam_TimeText           = cp[\"Exam\"][\"time\"]\n",
        "    Exam_VenueText          = cp[\"Exam\"][\"venue\"]\n",
        "    Exam_Type               = cp[\"Exam\"][\"type\"]\n",
        "    \n",
        "# test for any missing information in the config file\n",
        "except KeyError as key:\n",
        "    print(f\"KEY ERROR (BAD KEY: {key.args[0]}) WHILE READING CONFIG FILE, EXITING PROGRAM\")\n",
        "    exit(504)\n",
        "except:\n",
        "    print(\"GENERAL ERROR WHILE READING CONFIG FILE, EXITING PROGRAM\")\n",
        "    exit(500)"
      ]
    },
    {
      "cell_type": "markdown",
      "metadata": {},
      "source": [
        "## Parse the Data\n",
        "\n",
        "We will convert the data from config file into usable information for the program"
      ]
    },
    {
      "cell_type": "markdown",
      "metadata": {},
      "source": [
        "### ScheduleItem Class\n",
        "\n",
        "Holds information about a specific schedule item, we use a list of ScheduleItems to output to the console"
      ]
    },
    {
      "cell_type": "code",
      "execution_count": 15,
      "metadata": {},
      "outputs": [],
      "source": [
        "class ScheduleItem:\n",
        "    def __init__(self, title, date, day, time, venue, type):\n",
        "        self.date = date\n",
        "        self.day = day\n",
        "        self.title = title\n",
        "        self.time = time\n",
        "        self.venue = venue\n",
        "        self.type = type\n",
        "\n",
        "    def getType(self):\n",
        "        return self.type\n",
        "\n",
        "    def show(self):\n",
        "        if(self.type == \"Exam\"):\n",
        "            print(f\"{Exam_Type} for {self.title} will be held on {self.day}, {self.date} ({self.time}) at {self.venue}\")\n",
        "        if(self.type == \"Assignment\"):\n",
        "            print(f\"{self.title} is due at {self.day}, {self.date} ({self.time}). You can submit it at {self.venue}\")\n",
        "        if(self.type == \"Lecture\"):\n",
        "            print(f\"{self.time}: {self.title} ({self.venue})\")\n",
        "        if(self.type == \"Quiz\"):\n",
        "            print(f\"Quiz for {self.title} will be held on {self.day}, {self.date} ({self.time}) at {self.venue}\")\n",
        "    \n",
        "    def getInfo(self):\n",
        "        if(self.type == \"Exam\"):\n",
        "            return f\"{Exam_Type} for *{self.title}* will be held on _{self.day}, {self.date} ({self.time})_ at {self.venue}.\"\n",
        "        if(self.type == \"Assignment\"):\n",
        "            return f\"*{self.title}* is due at _{self.day}, {self.date} ({self.time})_. You can submit it at {self.venue}.\"\n",
        "        if(self.type == \"Lecture\"):\n",
        "            return f\"{self.time}: *{self.title}* ({self.venue}).\"\n",
        "        if(self.type == \"Quiz\"):\n",
        "            return f\"Quiz for *{self.title}* will be held on _{self.day}, {self.date} ({self.time})_ at {self.venue}.\""
      ]
    },
    {
      "cell_type": "markdown",
      "metadata": {},
      "source": [
        "#### Lecture Parser Function\n",
        "Reads the lecture string and breaks it up assuming the format: \n",
        "```Title(Time)[Location]```\n",
        "Then appends a ScheduleItem to CompleteSchedule for each unique entry\n",
        "\n",
        "Also, checks if the first two characters of the lecture is 'NA', so it can handle that logic"
      ]
    },
    {
      "cell_type": "code",
      "execution_count": 16,
      "metadata": {},
      "outputs": [],
      "source": [
        "\n",
        "# Parse the lectures text\n",
        "def ParseLectures(IN:str):\n",
        "    if(IN[0:2:] == \"NA\"):\n",
        "        debug(\"NO LECTURES SCHEDULED\")\n",
        "        NO_LECTURE = True\n",
        "        return\n",
        "    # remove whitespace, except space\n",
        "    whitespace = re.compile(r\"[^\\S *]\") # selects all whitespace except space\n",
        "    without_whitespace = re.sub(whitespace, '', IN)\n",
        "    split = without_whitespace.split(\",\")\n",
        "    \n",
        "    debug(\"LECTURES\")\n",
        "    debug(split)\n",
        "\n",
        "    for token in split:\n",
        "        title_curr = TextBeforeChar(token, '(')\n",
        "        debug(f\"**{title_curr}**\")\n",
        "\n",
        "        # Find the first occurrence of text between round brackets for time\n",
        "        time_curr = re.search(r\"\\(.+?\\)\", token)\n",
        "        time_curr = time_curr.string[time_curr.start():time_curr.end():] # python split notation is cursed\n",
        "        time_curr = time_curr[1:len(time_curr)-1:]\n",
        "\n",
        "        debug(f\"Time: {time_curr}\")\n",
        "\n",
        "        # Find the first occurrence of text between square brackets for venue\n",
        "        venue_curr = re.search(r\"\\[.+?\\]\", token)\n",
        "        venue_curr = venue_curr.string[venue_curr.start():venue_curr.end():] # python split notation is cursed\n",
        "        venue_curr = venue_curr[1:len(venue_curr)-1:]\n",
        "        if venue_curr == \"LOOKUP\":\n",
        "            venue_curr = LookupVenue\n",
        "        debug(f\"Venue: {venue_curr}\")\n",
        "\n",
        "        CompleteSchedule.append(ScheduleItem(title_curr, Current_Date, Current_Day, time_curr, venue_curr, \"Lecture\"))\n"
      ]
    },
    {
      "cell_type": "markdown",
      "metadata": {},
      "source": [
        "#### Parse other strings\n",
        "All the other types can be parsed using similar logic, since their values for title, date, day, etc. are split into different keys\n",
        "\n",
        "Also, we check if the value starts with 'NA' first\n",
        "\n"
      ]
    },
    {
      "cell_type": "code",
      "execution_count": 17,
      "metadata": {},
      "outputs": [],
      "source": [
        "\n",
        "def ParseOther(Titles:list, Dates:list, Days:list, Times:list, Venues:list, Type:str):\n",
        "    if(Titles[0:2:] == \"NA\"):\n",
        "        debug(f\"NONE FOUND: {Type}\")\n",
        "        if(Type == \"Quiz\"):\n",
        "            debug(\"NOQUIZ\")\n",
        "            NO_QUIZ = True\n",
        "        if(Type == \"Assignment\"):\n",
        "            NO_ASSIGNMENT = True\n",
        "        if(Type == \"Exam\"):\n",
        "            NO_EXAM = True\n",
        "        return\n",
        "    \n",
        "    # remove whitespace, except space\n",
        "    whitespace = re.compile(r\"[^\\S *]\") # selects all whitespace except space\n",
        "\n",
        "    Titles = re.sub(whitespace, '', Titles)\n",
        "    Titles = Titles.split(\",\")\n",
        "    debug(Titles)\n",
        "\n",
        "    Dates = re.sub(whitespace, '', Dates)\n",
        "    Dates = Dates.split(\",\")\n",
        "    debug(Dates)\n",
        "\n",
        "    Days = re.sub(whitespace, '', Days)\n",
        "    Days = Days.split(\",\")\n",
        "    debug(Days)\n",
        "\n",
        "    Times = re.sub(whitespace, '', Times)\n",
        "    Times = Times.split(\",\")\n",
        "    debug(Times)\n",
        "\n",
        "    Venues = re.sub(whitespace, '', Venues)\n",
        "    Venues = Venues.split(\",\")\n",
        "    debug(Venues)\n",
        "\n",
        "    for i in range(len(Titles)):\n",
        "        CompleteSchedule.append(ScheduleItem(Titles[i], Dates[i], Days[i], Times[i], Venues[i], Type))"
      ]
    },
    {
      "cell_type": "markdown",
      "metadata": {},
      "source": [
        "### Calling the Functions\n",
        "We can finally parse the inputs"
      ]
    },
    {
      "cell_type": "code",
      "execution_count": 18,
      "metadata": {},
      "outputs": [
        {
          "name": "stdout",
          "output_type": "stream",
          "text": [
            "Parsing exams\n",
            "['MM141L']\n",
            "['15 March']\n",
            "['Friday']\n",
            "['4PM']\n",
            "['MLH FMCE']\n",
            "Parsing quizzes\n",
            "NONE FOUND: Quiz\n",
            "NOQUIZ\n",
            "NO LECTURES SCHEDULED\n",
            "Parsing Assignments\n",
            "['MM101']\n",
            "['2 April']\n",
            "['Tuesday']\n",
            "['5PM']\n",
            "['Office']\n"
          ]
        }
      ],
      "source": [
        "debug(\"Parsing exams\")\n",
        "ParseOther(Exam_CurrentText, Exam_DateText, Exam_DayText, Exam_TimeText, Exam_VenueText, \"Exam\")\n",
        "\n",
        "debug(\"Parsing quizzes\")\n",
        "ParseOther(Quiz_CurrentText, Quiz_DateText, Quiz_DayText, Quiz_TimeText, Quiz_VenueText, \"Quiz\")\n",
        "\n",
        "# Debug is built into function\n",
        "ParseLectures(Lecture_Text)\n",
        "\n",
        "debug(\"Parsing Assignments\")\n",
        "ParseOther(Assignment_CurrentText, Assignment_DateText, Assignment_DayText, Assignment_TimeText, Assignment_VenueText, \"Assignment\")"
      ]
    },
    {
      "cell_type": "markdown",
      "metadata": {},
      "source": [
        "## Bugfix: NA Check\n",
        "\n",
        "NA check within parser function does not modify the global variable for some reason, so we add this here too"
      ]
    },
    {
      "cell_type": "code",
      "execution_count": 19,
      "metadata": {},
      "outputs": [],
      "source": [
        "if(Announcement[0:2:] == \"NA\"):\n",
        "    NO_ANNOUNCEMENT = True\n",
        "if(Assignment_CurrentText[0:2:] == \"NA\"):\n",
        "    NO_ASSIGNMENT = True\n",
        "if(Quiz_CurrentText[0:2:] == \"NA\"):\n",
        "    NO_QUIZ = True\n",
        "if(Lecture_Text[0:2:] == \"NA\"):\n",
        "    NO_LECTURE = True\n",
        "if(Exam_CurrentText[0:2:] == \"NA\"):\n",
        "    NO_EXAM = True"
      ]
    },
    {
      "cell_type": "markdown",
      "metadata": {},
      "source": [
        "## Output string generation\n",
        "\n",
        "We use a message string and simply append what we need\n",
        "\n",
        "We will also only print sections we need, so sections such as \"Exams\" would not be printed when there are no exams"
      ]
    },
    {
      "cell_type": "code",
      "execution_count": 20,
      "metadata": {},
      "outputs": [],
      "source": [
        "\n",
        "# generate an output string\n",
        "Message = \"\"\n",
        "\n",
        "Message += f\"*Update for {Current_Day[0].capitalize()+Current_Day[1:len(Current_Day):]}, {Current_Date}.* \\n\"\n",
        "\n",
        "if not NO_ANNOUNCEMENT and Announcement_Priority == \"Important\":\n",
        "    Message += f\"*\\nANNOUNCEMENT: {Announcement}*\\n\"    \n",
        "\n",
        "Message += f\"Class resources can be found at: \\n{ResourcesLink} \\n\"\n",
        "\n",
        "if not NO_EXAM:\n",
        "    Message += \"\\n\\n*EXAMS* \\n\"\n",
        "    for i in range(len(CompleteSchedule)):\n",
        "        if CompleteSchedule[i].getType() == \"Exam\":\n",
        "            Message += f\"{CompleteSchedule[i].getInfo()}\\n\"\n",
        "            \n",
        "if not NO_QUIZ:\n",
        "    Message += \"\\n\\n*QUIZZES* \\n\"\n",
        "    Message += f\"Quiz resources can be found at: \\n{QuizLink}\\n\"\n",
        "    for i in range(len(CompleteSchedule)):\n",
        "        if CompleteSchedule[i].getType() == \"Quiz\":\n",
        "            Message += f\"{CompleteSchedule[i].getInfo()}\\n\"\n",
        "\n",
        "if not NO_LECTURE:\n",
        "    Message += \"\\n\\n*LECTURE SCHEDULE* \\n\"\n",
        "    for i in range(len(CompleteSchedule)):\n",
        "        if CompleteSchedule[i].getType() == \"Lecture\":\n",
        "            Message += f\"{CompleteSchedule[i].getInfo()}\\n\"\n",
        "\n",
        "if not NO_ASSIGNMENT:\n",
        "    Message += \"\\n\\n*ASSIGNMENTS* \\n\"\n",
        "    Message += f\"Assignment resources can be found at: \\n{AssignmentLink}\\n\"\n",
        "    for i in range(len(CompleteSchedule)):\n",
        "        if CompleteSchedule[i].getType() == \"Assignment\":\n",
        "            Message += f\"{CompleteSchedule[i].getInfo()}\\n\"\n",
        "\n",
        "if not NO_ANNOUNCEMENT and not Announcement_Priority == \"Important\":\n",
        "    Message += f\"\\nANNOUNCEMENT: {Announcement} \\n\"\n",
        "\n",
        "Message += \"\\n\\n\\n\\n_This message was generated using the digital CR app by hamza, check it out at: https://github.com/Hamza-Bin-Aamir/Digital-CR/_\""
      ]
    },
    {
      "cell_type": "markdown",
      "metadata": {},
      "source": [
        "## Output\n",
        "\n",
        "We check what mode it is, then provide output accordingly"
      ]
    },
    {
      "cell_type": "code",
      "execution_count": 21,
      "metadata": {},
      "outputs": [
        {
          "name": "stdout",
          "output_type": "stream",
          "text": [
            "*Update for Friday, 15 March 2024.* \n",
            "Class resources can be found at: \n",
            "https://drive.google.com/drive/folders/1qUgqUQyGvUN16c8hvSUTC1YtEBvJpFzZ \n",
            "\n",
            "\n",
            "*EXAMS* \n",
            "Lab Mid-Term for *MM141L* will be held on _Friday, 15 March (4PM)_ at MLH FMCE.\n",
            "\n",
            "\n",
            "*ASSIGNMENTS* \n",
            "Assignment resources can be found at: \n",
            "https://drive.google.com/drive/folders/1PRvcxeiQic-g2bB3nSb3qzMLyTsEjkCN\n",
            "*MM101* is due at _Tuesday, 2 April (5PM)_. You can submit it at Office.\n",
            "\n",
            "\n",
            "\n",
            "\n",
            "_This message was generated using the digital CR app by hamza, check it out at: https://github.com/Hamza-Bin-Aamir/Digital-CR/_\n"
          ]
        }
      ],
      "source": [
        "if Mode == \"Confirm\":\n",
        "    print(Message)\n",
        "    flag_confirmed = yesno(input(\"Is this correct? (y/n): \"))\n",
        "    if flag_confirmed:\n",
        "        pywhatkit.sendwhatmsg_to_group_instantly(Target, Message)\n",
        "elif Mode == \"Print\":\n",
        "    print(Message)\n",
        "elif Mode == \"YOLO\":\n",
        "    pywhatkit.sendwhatmsg_to_group_instantly(Target, Message)\n",
        "else:\n",
        "    print(\"ERROR, MODE WAS INVALID\")\n",
        "    exit(-1)\n",
        "    "
      ]
    }
  ],
  "metadata": {
    "colab": {
      "provenance": []
    },
    "kernelspec": {
      "display_name": "Python 3",
      "name": "python3"
    },
    "language_info": {
      "codemirror_mode": {
        "name": "ipython",
        "version": 3
      },
      "file_extension": ".py",
      "mimetype": "text/x-python",
      "name": "python",
      "nbconvert_exporter": "python",
      "pygments_lexer": "ipython3",
      "version": "3.12.0"
    }
  },
  "nbformat": 4,
  "nbformat_minor": 0
}
