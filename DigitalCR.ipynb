{
  "cells": [
    {
      "cell_type": "markdown",
      "metadata": {
        "id": "upUsLv-C1aLH"
      },
      "source": [
        "# Digital CR\n",
        "A simple application that sends the current information on classes, exams, quizzes, and assignments to a whatsapp group at a specified time."
      ]
    },
    {
      "cell_type": "markdown",
      "metadata": {
        "id": "bglyk0V-2jxI"
      },
      "source": [
        "## Installing dependencies\n",
        "The only dependency for this script is pywhatkit, which uses your browser to send messages to whatsapp."
      ]
    },
    {
      "cell_type": "code",
      "execution_count": null,
      "metadata": {
        "colab": {
          "base_uri": "https://localhost:8080/"
        },
        "id": "X3Mhoia51Xxb",
        "outputId": "b909cc7a-054b-444b-e8f7-efe84a36465e"
      },
      "outputs": [
        {
          "ename": "",
          "evalue": "",
          "output_type": "error",
          "traceback": [
            "\u001b[1;31mRunning cells with 'c:\\Users\\hp\\AppData\\Local\\Programs\\Python\\Python312\\python.exe' requires the ipykernel package.\n",
            "\u001b[1;31mRun the following command to install 'ipykernel' into the Python environment. \n",
            "\u001b[1;31mCommand: 'c:/Users/hp/AppData/Local/Programs/Python/Python312/python.exe -m pip install ipykernel -U --user --force-reinstall'"
          ]
        }
      ],
      "source": [
        "# install dependencies\n",
        "%pip install pywhatkit"
      ]
    },
    {
      "cell_type": "code",
      "execution_count": null,
      "metadata": {
        "colab": {
          "base_uri": "https://localhost:8080/",
          "height": 304
        },
        "id": "5IPUJ10j6AW9",
        "outputId": "786ff397-f23a-4fb6-ae5d-b3007959bcf1"
      },
      "outputs": [
        {
          "ename": "",
          "evalue": "",
          "output_type": "error",
          "traceback": [
            "\u001b[1;31mRunning cells with 'c:\\Users\\hp\\AppData\\Local\\Programs\\Python\\Python312\\python.exe' requires the ipykernel package.\n",
            "\u001b[1;31mRun the following command to install 'ipykernel' into the Python environment. \n",
            "\u001b[1;31mCommand: 'c:/Users/hp/AppData/Local/Programs/Python/Python312/python.exe -m pip install ipykernel -U --user --force-reinstall'"
          ]
        }
      ],
      "source": [
        "# import dependencies\n",
        "import os\n",
        "os.environ['DISPLAY'] = ':0' # this is needed for pyautogui, which is used by pywhatkit\n",
        "import pywhatkit\n",
        "import configparser"
      ]
    },
    {
      "cell_type": "markdown",
      "metadata": {
        "id": "lk6I1q9G3ZpB"
      },
      "source": [
        "## Configuring the app\n",
        "This part of the code handles loading the config files and config data for the app to use later"
      ]
    },
    {
      "cell_type": "code",
      "execution_count": null,
      "metadata": {},
      "outputs": [
        {
          "ename": "",
          "evalue": "",
          "output_type": "error",
          "traceback": [
            "\u001b[1;31mRunning cells with 'c:\\Users\\hp\\AppData\\Local\\Programs\\Python\\Python312\\python.exe' requires the ipykernel package.\n",
            "\u001b[1;31mRun the following command to install 'ipykernel' into the Python environment. \n",
            "\u001b[1;31mCommand: 'c:/Users/hp/AppData/Local/Programs/Python/Python312/python.exe -m pip install ipykernel -U --user --force-reinstall'"
          ]
        }
      ],
      "source": [
        "# Config data (editable)\n",
        "DO_NOT_SEND = True # use this to get the code output in console instead of in the message\n",
        "DEBUG = True # get debug outputs\n",
        "CONFIG_FILE_LOCATION = 'Digital-CR-Config.ini' # relative path to file\n",
        "\n",
        "# Config data (DO NOT MODIFY)\n",
        "NO_EXAM = False\n",
        "NO_QUIZ = False\n",
        "NO_ASSIGNMENT = False\n",
        "NO_LECTURE = False\n",
        "\n",
        "# Config file\n"
      ]
    }
  ],
  "metadata": {
    "colab": {
      "provenance": []
    },
    "kernelspec": {
      "display_name": "Python 3",
      "name": "python3"
    },
    "language_info": {
      "name": "python",
      "version": "3.12.0"
    }
  },
  "nbformat": 4,
  "nbformat_minor": 0
}
